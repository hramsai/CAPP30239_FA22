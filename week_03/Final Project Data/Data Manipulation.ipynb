{
 "cells": [
  {
   "cell_type": "code",
   "execution_count": 48,
   "metadata": {},
   "outputs": [],
   "source": [
    "import pandas as pd\n",
    "import os\n",
    "import datetime"
   ]
  },
  {
   "cell_type": "code",
   "execution_count": 49,
   "metadata": {},
   "outputs": [],
   "source": [
    "\n",
    "path = r'/Users/harishsai/Desktop/Padhai/2. University of Chicago/4. Quarter 4/Data Visualizations/CAPP30239_FA22/week_03/Final Project Data'\n",
    "\n",
    "f_proj_name = \"projects.csv\"\n",
    "f_transactions_name = \"transactions.csv\"\n",
    "f_locations_name = \"locations.csv\"\n",
    "\n",
    "projects = pd.read_csv(os.path.join(path, f_proj_name))\n",
    "transacitons = pd.read_csv(os.path.join(path, f_transactions_name))\n",
    "locations = pd.read_csv(os.path.join(path, f_locations_name))"
   ]
  },
  {
   "cell_type": "code",
   "execution_count": 50,
   "metadata": {},
   "outputs": [
    {
     "name": "stderr",
     "output_type": "stream",
     "text": [
      "/var/folders/rs/84w2z2717dbf91k9ffgl2g980000gn/T/ipykernel_19839/4214851404.py:8: FutureWarning: In a future version of pandas all arguments of StringMethods.split except for the argument 'pat' will be keyword-only.\n",
      "  df['Primary Sector'], df['Addtional Sectors'] = df['ad_sector_names'].str.split('|', 1).str\n",
      "/var/folders/rs/84w2z2717dbf91k9ffgl2g980000gn/T/ipykernel_19839/4214851404.py:8: FutureWarning: Columnar iteration over characters will be deprecated in future releases.\n",
      "  df['Primary Sector'], df['Addtional Sectors'] = df['ad_sector_names'].str.split('|', 1).str\n"
     ]
    }
   ],
   "source": [
    "\n",
    "pd.set_option('display.float_format', lambda x: '%.2f' % x)\n",
    "\n",
    "df = projects.merge(transacitons, on='project_id', how='left')\n",
    "df = df.drop(['start_actual_isodate', 'start_actual_type', 'end_actual_isodate', 'end_actual_type', 'transaction_id', 'transaction_isodate', 'transaction_value_code'], axis=1)\n",
    "df = df[df['transaction_year'] > 2003]\n",
    "df.sort_values(by=['transaction_year'])\n",
    "\n",
    "df['Primary Sector'], df['Addtional Sectors'] = df['ad_sector_names'].str.split('|', 1).str\n",
    "\n",
    "df = df.drop('Addtional Sectors', axis = 1)\n",
    "\n",
    "df = df.replace('Health, general', 'Health')\n",
    "df = df.replace({'Primary Sector':{'Agriculture':'Agriculture, forestry, fishing',\n",
    "                                    'Forestry':'Agriculture, forestry, fishing'}})\n",
    "df = df.replace({'Primary Sector':{'Post-secondary education':'Education',\n",
    "                                    'Secondary education':'Education',\n",
    "                                    'Education, level unspecified':'Education',\n",
    "                                    'Basic Education': 'Education'}})"
   ]
  },
  {
   "cell_type": "code",
   "execution_count": 51,
   "metadata": {},
   "outputs": [
    {
     "name": "stderr",
     "output_type": "stream",
     "text": [
      "/var/folders/rs/84w2z2717dbf91k9ffgl2g980000gn/T/ipykernel_19839/2952305275.py:3: FutureWarning: The default value of numeric_only in DataFrameGroupBy.sum is deprecated. In a future version, numeric_only will default to False. Either specify numeric_only or select only columns which should be valid for the function.\n",
      "  projects_year = df.groupby('transaction_year').sum()\n"
     ]
    }
   ],
   "source": [
    "# Disbursements and Commitments each Year\n",
    "\n",
    "projects_year = df.groupby('transaction_year').sum()\n",
    "projects_year = projects_year.drop(['is_geocoded', 'transactions_start_year', 'transactions_end_year'], axis = 1)\n",
    "projects_year = projects_year.reset_index()"
   ]
  },
  {
   "cell_type": "code",
   "execution_count": 52,
   "metadata": {},
   "outputs": [],
   "source": [
    "sector = df.groupby('Primary Sector').size()\n",
    "sector = sector.to_frame(name = 'size').reset_index()"
   ]
  },
  {
   "cell_type": "code",
   "execution_count": 53,
   "metadata": {},
   "outputs": [
    {
     "data": {
      "text/html": [
       "<div>\n",
       "<style scoped>\n",
       "    .dataframe tbody tr th:only-of-type {\n",
       "        vertical-align: middle;\n",
       "    }\n",
       "\n",
       "    .dataframe tbody tr th {\n",
       "        vertical-align: top;\n",
       "    }\n",
       "\n",
       "    .dataframe thead th {\n",
       "        text-align: right;\n",
       "    }\n",
       "</style>\n",
       "<table border=\"1\" class=\"dataframe\">\n",
       "  <thead>\n",
       "    <tr style=\"text-align: right;\">\n",
       "      <th></th>\n",
       "      <th>transaction_year</th>\n",
       "      <th>Primary Sector</th>\n",
       "      <th>size</th>\n",
       "    </tr>\n",
       "  </thead>\n",
       "  <tbody>\n",
       "    <tr>\n",
       "      <th>0</th>\n",
       "      <td>2004.00</td>\n",
       "      <td>Agriculture, forestry, fishing</td>\n",
       "      <td>66</td>\n",
       "    </tr>\n",
       "    <tr>\n",
       "      <th>1</th>\n",
       "      <td>2004.00</td>\n",
       "      <td>Banking and financial services</td>\n",
       "      <td>45</td>\n",
       "    </tr>\n",
       "    <tr>\n",
       "      <th>2</th>\n",
       "      <td>2004.00</td>\n",
       "      <td>Basic education</td>\n",
       "      <td>4</td>\n",
       "    </tr>\n",
       "    <tr>\n",
       "      <th>3</th>\n",
       "      <td>2004.00</td>\n",
       "      <td>Communications</td>\n",
       "      <td>22</td>\n",
       "    </tr>\n",
       "    <tr>\n",
       "      <th>4</th>\n",
       "      <td>2004.00</td>\n",
       "      <td>Education</td>\n",
       "      <td>64</td>\n",
       "    </tr>\n",
       "    <tr>\n",
       "      <th>...</th>\n",
       "      <td>...</td>\n",
       "      <td>...</td>\n",
       "      <td>...</td>\n",
       "    </tr>\n",
       "    <tr>\n",
       "      <th>154</th>\n",
       "      <td>2014.00</td>\n",
       "      <td>Mineral resources and mining</td>\n",
       "      <td>5</td>\n",
       "    </tr>\n",
       "    <tr>\n",
       "      <th>155</th>\n",
       "      <td>2014.00</td>\n",
       "      <td>Other social infrastructure and services</td>\n",
       "      <td>50</td>\n",
       "    </tr>\n",
       "    <tr>\n",
       "      <th>156</th>\n",
       "      <td>2014.00</td>\n",
       "      <td>Trade policy and regulations</td>\n",
       "      <td>4</td>\n",
       "    </tr>\n",
       "    <tr>\n",
       "      <th>157</th>\n",
       "      <td>2014.00</td>\n",
       "      <td>Transport and storage</td>\n",
       "      <td>24</td>\n",
       "    </tr>\n",
       "    <tr>\n",
       "      <th>158</th>\n",
       "      <td>2014.00</td>\n",
       "      <td>Water supply and sanitation</td>\n",
       "      <td>68</td>\n",
       "    </tr>\n",
       "  </tbody>\n",
       "</table>\n",
       "<p>159 rows × 3 columns</p>\n",
       "</div>"
      ],
      "text/plain": [
       "     transaction_year                            Primary Sector  size\n",
       "0             2004.00            Agriculture, forestry, fishing    66\n",
       "1             2004.00            Banking and financial services    45\n",
       "2             2004.00                           Basic education     4\n",
       "3             2004.00                            Communications    22\n",
       "4             2004.00                                 Education    64\n",
       "..                ...                                       ...   ...\n",
       "154           2014.00              Mineral resources and mining     5\n",
       "155           2014.00  Other social infrastructure and services    50\n",
       "156           2014.00              Trade policy and regulations     4\n",
       "157           2014.00                     Transport and storage    24\n",
       "158           2014.00               Water supply and sanitation    68\n",
       "\n",
       "[159 rows x 3 columns]"
      ]
     },
     "execution_count": 53,
     "metadata": {},
     "output_type": "execute_result"
    }
   ],
   "source": [
    "projects_year_sector = df.groupby(['transaction_year', 'Primary Sector']).size()\n",
    "projects_year_sector.to_frame(name = 'size').reset_index()"
   ]
  },
  {
   "cell_type": "code",
   "execution_count": 54,
   "metadata": {},
   "outputs": [],
   "source": [
    "\n",
    "ids = df['project_id'].unique()\n",
    "locations = locations[locations['project_id'].isin(ids)]"
   ]
  },
  {
   "cell_type": "code",
   "execution_count": 56,
   "metadata": {},
   "outputs": [],
   "source": [
    "\n",
    "send_path = r'/Users/harishsai/Desktop/Padhai/2. University of Chicago/4. Quarter 4/Data Visualizations/CAPP30239_FA22/Data'\n",
    "\n",
    "df.to_csv(os.path.join(send_path, 'Final Project Data - WBG Projects.csv'), index=False)\n",
    "locations.to_csv(os.path.join(send_path,'Final Project Data - WBG Locations.csv'), index=False)\n",
    "projects_year.to_csv(os.path.join(send_path,'Final Project Data - WBG Total Money per Year.csv'), index=False)\n",
    "sector.to_csv(os.path.join(send_path,'Final Project Data - WBG Counts for each Sectors.csv'), index=False)\n",
    "projects_year_sector.to_csv(os.path.join(send_path,'Final Project Data - WBG Counts for each Sectors per Year.csv'), index=False)"
   ]
  }
 ],
 "metadata": {
  "kernelspec": {
   "display_name": "Python 3.10.8 64-bit",
   "language": "python",
   "name": "python3"
  },
  "language_info": {
   "codemirror_mode": {
    "name": "ipython",
    "version": 3
   },
   "file_extension": ".py",
   "mimetype": "text/x-python",
   "name": "python",
   "nbconvert_exporter": "python",
   "pygments_lexer": "ipython3",
   "version": "3.10.8"
  },
  "orig_nbformat": 4,
  "vscode": {
   "interpreter": {
    "hash": "aee8b7b246df8f9039afb4144a1f6fd8d2ca17a180786b69acc140d282b71a49"
   }
  }
 },
 "nbformat": 4,
 "nbformat_minor": 2
}
