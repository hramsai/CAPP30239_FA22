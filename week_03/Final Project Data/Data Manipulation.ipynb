{
 "cells": [
  {
   "cell_type": "code",
   "execution_count": 28,
   "metadata": {},
   "outputs": [],
   "source": [
    "import pandas as pd\n",
    "import os"
   ]
  },
  {
   "cell_type": "code",
   "execution_count": 35,
   "metadata": {},
   "outputs": [],
   "source": [
    "\n",
    "path = r'/Users/harishsai/Desktop/Padhai/2. University of Chicago/4. Quarter 4/Data Visualizations/CAPP30239_FA22/week_03/Final Project Data'\n",
    "\n",
    "f_proj_name = \"projects.csv\"\n",
    "f_transactions_name = \"transactions.csv\"\n",
    "f_locations_name = \"locations.csv\"\n",
    "\n",
    "projects = pd.read_csv(os.path.join(path, f_proj_name))\n",
    "transacitons = pd.read_csv(os.path.join(path, f_transactions_name))\n",
    "locations = pd.read_csv(os.path.join(path, f_locations_name))"
   ]
  },
  {
   "cell_type": "code",
   "execution_count": 33,
   "metadata": {},
   "outputs": [
    {
     "name": "stderr",
     "output_type": "stream",
     "text": [
      "/var/folders/rs/84w2z2717dbf91k9ffgl2g980000gn/T/ipykernel_17282/3913624088.py:6: FutureWarning: In a future version of pandas all arguments of StringMethods.split except for the argument 'pat' will be keyword-only.\n",
      "  df['Primary Sector'], df['Addtional Sectors'] = df['ad_sector_names'].str.split('|', 1).str\n",
      "/var/folders/rs/84w2z2717dbf91k9ffgl2g980000gn/T/ipykernel_17282/3913624088.py:6: FutureWarning: Columnar iteration over characters will be deprecated in future releases.\n",
      "  df['Primary Sector'], df['Addtional Sectors'] = df['ad_sector_names'].str.split('|', 1).str\n"
     ]
    }
   ],
   "source": [
    "\n",
    "df = projects.merge(transacitons, on='project_id', how='left')\n",
    "df = df.drop(['start_actual_isodate', 'start_actual_type', 'end_actual_isodate', 'end_actual_type', 'transaction_id', 'transaction_isodate', 'transaction_value_code'], axis=1)\n",
    "df = df[df['transaction_year'] > 2004]\n",
    "df.sort_values(by=['transaction_year'])\n",
    "\n",
    "df['Primary Sector'], df['Addtional Sectors'] = df['ad_sector_names'].str.split('|', 1).str\n",
    "\n",
    "df = df.drop('Addtional Sectors', axis = 1)"
   ]
  },
  {
   "cell_type": "code",
   "execution_count": 85,
   "metadata": {},
   "outputs": [
    {
     "data": {
      "text/plain": [
       "3373"
      ]
     },
     "execution_count": 85,
     "metadata": {},
     "output_type": "execute_result"
    }
   ],
   "source": [
    "\n",
    "ids = df['project_id'].unique()\n",
    "\n",
    "locations = locations[locations['project_id'].isin(ids)]\n",
    "\n"
   ]
  },
  {
   "cell_type": "code",
   "execution_count": 87,
   "metadata": {},
   "outputs": [],
   "source": [
    "df.to_csv('Final Project Data - WBG Projects.csv', index=False)\n",
    "df.to_csv('Final Project Data - WBG Locations.csv', index=False)"
   ]
  }
 ],
 "metadata": {
  "kernelspec": {
   "display_name": "Python 3.10.8 64-bit",
   "language": "python",
   "name": "python3"
  },
  "language_info": {
   "codemirror_mode": {
    "name": "ipython",
    "version": 3
   },
   "file_extension": ".py",
   "mimetype": "text/x-python",
   "name": "python",
   "nbconvert_exporter": "python",
   "pygments_lexer": "ipython3",
   "version": "3.10.8"
  },
  "orig_nbformat": 4,
  "vscode": {
   "interpreter": {
    "hash": "aee8b7b246df8f9039afb4144a1f6fd8d2ca17a180786b69acc140d282b71a49"
   }
  }
 },
 "nbformat": 4,
 "nbformat_minor": 2
}
